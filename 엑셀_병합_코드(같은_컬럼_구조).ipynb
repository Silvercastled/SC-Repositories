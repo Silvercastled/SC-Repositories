{
  "nbformat": 4,
  "nbformat_minor": 0,
  "metadata": {
    "colab": {
      "provenance": [],
      "authorship_tag": "ABX9TyPtk2DiVcgQak+n64NJE9ta",
      "include_colab_link": true
    },
    "kernelspec": {
      "name": "python3",
      "display_name": "Python 3"
    },
    "language_info": {
      "name": "python"
    }
  },
  "cells": [
    {
      "cell_type": "markdown",
      "metadata": {
        "id": "view-in-github",
        "colab_type": "text"
      },
      "source": [
        "<a href=\"https://colab.research.google.com/github/Silvercastled/SC-Repositories/blob/main/%EC%97%91%EC%85%80_%EB%B3%91%ED%95%A9_%EC%BD%94%EB%93%9C(%EA%B0%99%EC%9D%80_%EC%BB%AC%EB%9F%BC_%EA%B5%AC%EC%A1%B0).ipynb\" target=\"_parent\"><img src=\"https://colab.research.google.com/assets/colab-badge.svg\" alt=\"Open In Colab\"/></a>"
      ]
    },
    {
      "cell_type": "code",
      "execution_count": 1,
      "metadata": {
        "colab": {
          "base_uri": "https://localhost:8080/"
        },
        "id": "PuOiP-3oJntt",
        "outputId": "beb87958-aaa6-428e-c7fa-cb16362d2ab3"
      },
      "outputs": [
        {
          "output_type": "stream",
          "name": "stdout",
          "text": [
            "Mounted at /content/drive\n"
          ]
        }
      ],
      "source": [
        "# 구글 드라이브 통해 엑셀 불러오기(인증필요\n",
        "from google.colab import drive\n",
        "drive.mount('/content/drive')"
      ]
    },
    {
      "cell_type": "code",
      "source": [
        "# 필요한 라이브러리 호출\n",
        "import pandas as pd\n",
        "import glob"
      ],
      "metadata": {
        "id": "a6h226KQJ7eZ"
      },
      "execution_count": 3,
      "outputs": []
    },
    {
      "cell_type": "code",
      "source": [
        "# 구글 드라이브 내 엑셀 파일들이 있는 경로를 지정(설정)\n",
        "excel_files_path = '/content/drive/MyDrive/excel_files/'"
      ],
      "metadata": {
        "id": "EUlnLTTELKFF"
      },
      "execution_count": 4,
      "outputs": []
    },
    {
      "cell_type": "code",
      "source": [
        "# 지정한 경로에 있는 모든 엑셀 파일 데이터들을 읽어옴\n",
        "excel_files = glob.glob(excel_files_path + '*.xlsx')"
      ],
      "metadata": {
        "id": "WqditN_yLX8M"
      },
      "execution_count": 5,
      "outputs": []
    },
    {
      "cell_type": "code",
      "source": [
        "# 빈 데이터프레임 리스트 생성\n",
        "dataframes= [ ]"
      ],
      "metadata": {
        "id": "iiarFKWtLh6L"
      },
      "execution_count": 6,
      "outputs": []
    },
    {
      "cell_type": "code",
      "source": [
        "# 각 엑셀 파일들을 빈 데이터 프레임으로 불러 그것들을 읽으며 리스트에 추가\n",
        "for file in excel_files:\n",
        "    df = pd.read_excel(file)\n",
        "    dataframes.append(df)"
      ],
      "metadata": {
        "id": "RwNsoZkFLkoj"
      },
      "execution_count": 7,
      "outputs": []
    },
    {
      "cell_type": "code",
      "source": [
        "# 데이터프레임들을 하나로 병합하는 과정 수행(같은 컬럼 구조)\n",
        "merged_df = pd.concat(dataframes, ignore_index=True)"
      ],
      "metadata": {
        "id": "1OdJH1c0LvPG"
      },
      "execution_count": 8,
      "outputs": []
    },
    {
      "cell_type": "code",
      "source": [
        "# 병합된 엑셀 데이터들을 하나의 다른 엑셀 파일로 저장\n",
        "output_path = '/content/drive/MyDrive/merged_result.xlsx'\n",
        "merged_df.to_excel(output_path, index=False)"
      ],
      "metadata": {
        "id": "Gv7NchEFL3k1"
      },
      "execution_count": 9,
      "outputs": []
    },
    {
      "cell_type": "code",
      "source": [],
      "metadata": {
        "id": "8K8areiRMFb8"
      },
      "execution_count": null,
      "outputs": []
    }
  ]
}